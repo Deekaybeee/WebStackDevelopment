{
 "cells": [
  {
   "cell_type": "code",
   "execution_count": 4,
   "metadata": {},
   "outputs": [
    {
     "name": "stdout",
     "output_type": "stream",
     "text": [
      "[1, 'dhanwin', 'password', 24032001, True, False, 165.5, 61.5, '1', '2']\n"
     ]
    }
   ],
   "source": [
    "i=0\n",
    "user=[1,\"dhanwin\",\"password\",24032001,True,False,165.5,61.5]\n",
    "noe=int(input(\"Enter the no. of elements you wish to append:\"))\n",
    "for i in range(0,noe):\n",
    "    val=input(\"Enter the element you wish to append:\")\n",
    "    user.append(val)"
   ]
  },
  {
   "cell_type": "code",
   "execution_count": 7,
   "metadata": {},
   "outputs": [
    {
     "name": "stdout",
     "output_type": "stream",
     "text": [
      "[1, 'dhanwin', 'password', 24032001, True, False, 165.5, 61.5, '8']\n"
     ]
    }
   ],
   "source": [
    "i=0\n",
    "user=[1,\"dhanwin\",\"password\",24032001,True,False,165.5,61.5]\n",
    "noe=int(input(\"Enter the no. of elements you wish to insert:\"))\n",
    "for i in range(0,noe):\n",
    "    val=input(\"Enter the element you wish to insert:\")\n",
    "    indx=int(input(\"Enter the index where element must be inserted:\"))\n",
    "    user.insert(indx,val)\n",
    "print(user)"
   ]
  },
  {
   "cell_type": "code",
   "execution_count": null,
   "metadata": {},
   "outputs": [],
   "source": [
    "user=[1,\"dhanwin\",\"password\",24032001,True,False,165.5,61.5]\n",
    "contact=[\"100\",\"dkb@mail.com\"]\n",
    "print(user1)"
   ]
  }
 ],
 "metadata": {
  "kernelspec": {
   "display_name": "Python 3",
   "language": "python",
   "name": "python3"
  },
  "language_info": {
   "codemirror_mode": {
    "name": "ipython",
    "version": 3
   },
   "file_extension": ".py",
   "mimetype": "text/x-python",
   "name": "python",
   "nbconvert_exporter": "python",
   "pygments_lexer": "ipython3",
   "version": "3.11.4"
  },
  "orig_nbformat": 4
 },
 "nbformat": 4,
 "nbformat_minor": 2
}
